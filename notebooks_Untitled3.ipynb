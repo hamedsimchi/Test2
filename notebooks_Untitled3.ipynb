{
  "metadata": {
    "language_info": {
      "codemirror_mode": {
        "name": "python",
        "version": 3
      },
      "file_extension": ".py",
      "mimetype": "text/x-python",
      "name": "python",
      "nbconvert_exporter": "python",
      "pygments_lexer": "ipython3",
      "version": "3.8"
    },
    "kernelspec": {
      "name": "python",
      "display_name": "Pyolite",
      "language": "python"
    }
  },
  "nbformat_minor": 4,
  "nbformat": 4,
  "cells": [
    {
      "cell_type": "markdown",
      "source": "My Jupyter Notebook on IBM Watson Studio",
      "metadata": {}
    },
    {
      "cell_type": "markdown",
      "source": "**HAMED SIMCHI**\nProgram manager",
      "metadata": {}
    },
    {
      "cell_type": "markdown",
      "source": "*I'm interested in data science because it helps me to better organize and undrestand data trends. It will also open new oppurtunities for possible job transitions in the future*",
      "metadata": {}
    },
    {
      "cell_type": "markdown",
      "source": "### Simple math calculator",
      "metadata": {}
    },
    {
      "cell_type": "code",
      "source": "1+1\n",
      "metadata": {
        "trusted": true
      },
      "execution_count": 2,
      "outputs": [
        {
          "execution_count": 2,
          "output_type": "execute_result",
          "data": {
            "text/plain": "2"
          },
          "metadata": {}
        }
      ]
    },
    {
      "cell_type": "markdown",
      "source": "* This is bullet list1 \n* This is bullet list2\n* This is bullet list3\n\n1. Numbered list1\n2. Numbered list2\n3. Numbered list3\n\n`Here is my code!`\n",
      "metadata": {}
    },
    {
      "cell_type": "code",
      "source": "",
      "metadata": {},
      "execution_count": null,
      "outputs": []
    }
  ]
}